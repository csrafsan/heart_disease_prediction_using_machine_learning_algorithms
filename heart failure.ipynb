{
 "cells": [
  {
   "cell_type": "code",
   "execution_count": 2,
   "id": "733024a5",
   "metadata": {},
   "outputs": [],
   "source": [
    "import numpy as np\n",
    "import pickle\n",
    "import pandas as pd\n",
    "import matplotlib.pyplot as plt\n",
    "from sklearn.model_selection import train_test_split\n",
    "import csv"
   ]
  },
  {
   "cell_type": "code",
   "execution_count": 3,
   "id": "74f70f1e",
   "metadata": {},
   "outputs": [],
   "source": [
    "dataset = pd.read_csv('heartt.csv')\n",
    "X= dataset.iloc[:,:-1].values\n",
    "Y= dataset.iloc[:,-1].values"
   ]
  },
  {
   "cell_type": "code",
   "execution_count": 4,
   "id": "69634500",
   "metadata": {},
   "outputs": [
    {
     "data": {
      "text/html": [
       "<div>\n",
       "<style scoped>\n",
       "    .dataframe tbody tr th:only-of-type {\n",
       "        vertical-align: middle;\n",
       "    }\n",
       "\n",
       "    .dataframe tbody tr th {\n",
       "        vertical-align: top;\n",
       "    }\n",
       "\n",
       "    .dataframe thead th {\n",
       "        text-align: right;\n",
       "    }\n",
       "</style>\n",
       "<table border=\"1\" class=\"dataframe\">\n",
       "  <thead>\n",
       "    <tr style=\"text-align: right;\">\n",
       "      <th></th>\n",
       "      <th>age</th>\n",
       "      <th>sex</th>\n",
       "      <th>cp</th>\n",
       "      <th>trestbps</th>\n",
       "      <th>chol</th>\n",
       "      <th>fbs</th>\n",
       "      <th>restecg</th>\n",
       "      <th>thalach</th>\n",
       "      <th>exang</th>\n",
       "      <th>oldpeak</th>\n",
       "      <th>slope</th>\n",
       "      <th>ca</th>\n",
       "      <th>thal</th>\n",
       "      <th>target</th>\n",
       "    </tr>\n",
       "  </thead>\n",
       "  <tbody>\n",
       "    <tr>\n",
       "      <th>0</th>\n",
       "      <td>52</td>\n",
       "      <td>1</td>\n",
       "      <td>0</td>\n",
       "      <td>125</td>\n",
       "      <td>212</td>\n",
       "      <td>0</td>\n",
       "      <td>1</td>\n",
       "      <td>168</td>\n",
       "      <td>0</td>\n",
       "      <td>1.0</td>\n",
       "      <td>2</td>\n",
       "      <td>2</td>\n",
       "      <td>3</td>\n",
       "      <td>0</td>\n",
       "    </tr>\n",
       "    <tr>\n",
       "      <th>1</th>\n",
       "      <td>53</td>\n",
       "      <td>1</td>\n",
       "      <td>0</td>\n",
       "      <td>140</td>\n",
       "      <td>203</td>\n",
       "      <td>1</td>\n",
       "      <td>0</td>\n",
       "      <td>155</td>\n",
       "      <td>1</td>\n",
       "      <td>3.1</td>\n",
       "      <td>0</td>\n",
       "      <td>0</td>\n",
       "      <td>3</td>\n",
       "      <td>0</td>\n",
       "    </tr>\n",
       "    <tr>\n",
       "      <th>2</th>\n",
       "      <td>70</td>\n",
       "      <td>1</td>\n",
       "      <td>0</td>\n",
       "      <td>145</td>\n",
       "      <td>174</td>\n",
       "      <td>0</td>\n",
       "      <td>1</td>\n",
       "      <td>125</td>\n",
       "      <td>1</td>\n",
       "      <td>2.6</td>\n",
       "      <td>0</td>\n",
       "      <td>0</td>\n",
       "      <td>3</td>\n",
       "      <td>0</td>\n",
       "    </tr>\n",
       "    <tr>\n",
       "      <th>3</th>\n",
       "      <td>61</td>\n",
       "      <td>1</td>\n",
       "      <td>0</td>\n",
       "      <td>148</td>\n",
       "      <td>203</td>\n",
       "      <td>0</td>\n",
       "      <td>1</td>\n",
       "      <td>161</td>\n",
       "      <td>0</td>\n",
       "      <td>0.0</td>\n",
       "      <td>2</td>\n",
       "      <td>1</td>\n",
       "      <td>3</td>\n",
       "      <td>0</td>\n",
       "    </tr>\n",
       "    <tr>\n",
       "      <th>4</th>\n",
       "      <td>62</td>\n",
       "      <td>0</td>\n",
       "      <td>0</td>\n",
       "      <td>138</td>\n",
       "      <td>294</td>\n",
       "      <td>1</td>\n",
       "      <td>1</td>\n",
       "      <td>106</td>\n",
       "      <td>0</td>\n",
       "      <td>1.9</td>\n",
       "      <td>1</td>\n",
       "      <td>3</td>\n",
       "      <td>2</td>\n",
       "      <td>0</td>\n",
       "    </tr>\n",
       "    <tr>\n",
       "      <th>...</th>\n",
       "      <td>...</td>\n",
       "      <td>...</td>\n",
       "      <td>...</td>\n",
       "      <td>...</td>\n",
       "      <td>...</td>\n",
       "      <td>...</td>\n",
       "      <td>...</td>\n",
       "      <td>...</td>\n",
       "      <td>...</td>\n",
       "      <td>...</td>\n",
       "      <td>...</td>\n",
       "      <td>...</td>\n",
       "      <td>...</td>\n",
       "      <td>...</td>\n",
       "    </tr>\n",
       "    <tr>\n",
       "      <th>1020</th>\n",
       "      <td>59</td>\n",
       "      <td>1</td>\n",
       "      <td>1</td>\n",
       "      <td>140</td>\n",
       "      <td>221</td>\n",
       "      <td>0</td>\n",
       "      <td>1</td>\n",
       "      <td>164</td>\n",
       "      <td>1</td>\n",
       "      <td>0.0</td>\n",
       "      <td>2</td>\n",
       "      <td>0</td>\n",
       "      <td>2</td>\n",
       "      <td>1</td>\n",
       "    </tr>\n",
       "    <tr>\n",
       "      <th>1021</th>\n",
       "      <td>60</td>\n",
       "      <td>1</td>\n",
       "      <td>0</td>\n",
       "      <td>125</td>\n",
       "      <td>258</td>\n",
       "      <td>0</td>\n",
       "      <td>0</td>\n",
       "      <td>141</td>\n",
       "      <td>1</td>\n",
       "      <td>2.8</td>\n",
       "      <td>1</td>\n",
       "      <td>1</td>\n",
       "      <td>3</td>\n",
       "      <td>0</td>\n",
       "    </tr>\n",
       "    <tr>\n",
       "      <th>1022</th>\n",
       "      <td>47</td>\n",
       "      <td>1</td>\n",
       "      <td>0</td>\n",
       "      <td>110</td>\n",
       "      <td>275</td>\n",
       "      <td>0</td>\n",
       "      <td>0</td>\n",
       "      <td>118</td>\n",
       "      <td>1</td>\n",
       "      <td>1.0</td>\n",
       "      <td>1</td>\n",
       "      <td>1</td>\n",
       "      <td>2</td>\n",
       "      <td>0</td>\n",
       "    </tr>\n",
       "    <tr>\n",
       "      <th>1023</th>\n",
       "      <td>50</td>\n",
       "      <td>0</td>\n",
       "      <td>0</td>\n",
       "      <td>110</td>\n",
       "      <td>254</td>\n",
       "      <td>0</td>\n",
       "      <td>0</td>\n",
       "      <td>159</td>\n",
       "      <td>0</td>\n",
       "      <td>0.0</td>\n",
       "      <td>2</td>\n",
       "      <td>0</td>\n",
       "      <td>2</td>\n",
       "      <td>1</td>\n",
       "    </tr>\n",
       "    <tr>\n",
       "      <th>1024</th>\n",
       "      <td>54</td>\n",
       "      <td>1</td>\n",
       "      <td>0</td>\n",
       "      <td>120</td>\n",
       "      <td>188</td>\n",
       "      <td>0</td>\n",
       "      <td>1</td>\n",
       "      <td>113</td>\n",
       "      <td>0</td>\n",
       "      <td>1.4</td>\n",
       "      <td>1</td>\n",
       "      <td>1</td>\n",
       "      <td>3</td>\n",
       "      <td>0</td>\n",
       "    </tr>\n",
       "  </tbody>\n",
       "</table>\n",
       "<p>1025 rows × 14 columns</p>\n",
       "</div>"
      ],
      "text/plain": [
       "      age  sex  cp  trestbps  chol  fbs  restecg  thalach  exang  oldpeak  \\\n",
       "0      52    1   0       125   212    0        1      168      0      1.0   \n",
       "1      53    1   0       140   203    1        0      155      1      3.1   \n",
       "2      70    1   0       145   174    0        1      125      1      2.6   \n",
       "3      61    1   0       148   203    0        1      161      0      0.0   \n",
       "4      62    0   0       138   294    1        1      106      0      1.9   \n",
       "...   ...  ...  ..       ...   ...  ...      ...      ...    ...      ...   \n",
       "1020   59    1   1       140   221    0        1      164      1      0.0   \n",
       "1021   60    1   0       125   258    0        0      141      1      2.8   \n",
       "1022   47    1   0       110   275    0        0      118      1      1.0   \n",
       "1023   50    0   0       110   254    0        0      159      0      0.0   \n",
       "1024   54    1   0       120   188    0        1      113      0      1.4   \n",
       "\n",
       "      slope  ca  thal  target  \n",
       "0         2   2     3       0  \n",
       "1         0   0     3       0  \n",
       "2         0   0     3       0  \n",
       "3         2   1     3       0  \n",
       "4         1   3     2       0  \n",
       "...     ...  ..   ...     ...  \n",
       "1020      2   0     2       1  \n",
       "1021      1   1     3       0  \n",
       "1022      1   1     2       0  \n",
       "1023      2   0     2       1  \n",
       "1024      1   1     3       0  \n",
       "\n",
       "[1025 rows x 14 columns]"
      ]
     },
     "execution_count": 4,
     "metadata": {},
     "output_type": "execute_result"
    }
   ],
   "source": [
    "dataset"
   ]
  },
  {
   "cell_type": "code",
   "execution_count": 5,
   "id": "2379aa3c",
   "metadata": {},
   "outputs": [
    {
     "name": "stdout",
     "output_type": "stream",
     "text": [
      "<class 'pandas.core.frame.DataFrame'>\n",
      "RangeIndex: 1025 entries, 0 to 1024\n",
      "Data columns (total 14 columns):\n",
      " #   Column    Non-Null Count  Dtype  \n",
      "---  ------    --------------  -----  \n",
      " 0   age       1025 non-null   int64  \n",
      " 1   sex       1025 non-null   int64  \n",
      " 2   cp        1025 non-null   int64  \n",
      " 3   trestbps  1025 non-null   int64  \n",
      " 4   chol      1025 non-null   int64  \n",
      " 5   fbs       1025 non-null   int64  \n",
      " 6   restecg   1025 non-null   int64  \n",
      " 7   thalach   1025 non-null   int64  \n",
      " 8   exang     1025 non-null   int64  \n",
      " 9   oldpeak   1025 non-null   float64\n",
      " 10  slope     1025 non-null   int64  \n",
      " 11  ca        1025 non-null   int64  \n",
      " 12  thal      1025 non-null   int64  \n",
      " 13  target    1025 non-null   int64  \n",
      "dtypes: float64(1), int64(13)\n",
      "memory usage: 112.2 KB\n"
     ]
    }
   ],
   "source": [
    "dataset.info()"
   ]
  },
  {
   "cell_type": "code",
   "execution_count": 6,
   "id": "bb9910d3",
   "metadata": {},
   "outputs": [
    {
     "data": {
      "text/plain": [
       "(1025, 13)"
      ]
     },
     "execution_count": 6,
     "metadata": {},
     "output_type": "execute_result"
    }
   ],
   "source": [
    "X.shape"
   ]
  },
  {
   "cell_type": "code",
   "execution_count": 7,
   "id": "3192a329",
   "metadata": {},
   "outputs": [
    {
     "data": {
      "text/plain": [
       "(1025,)"
      ]
     },
     "execution_count": 7,
     "metadata": {},
     "output_type": "execute_result"
    }
   ],
   "source": [
    "Y.shape"
   ]
  },
  {
   "cell_type": "code",
   "execution_count": 8,
   "id": "6eade194",
   "metadata": {},
   "outputs": [],
   "source": [
    "\n",
    "X_train,X_test,Y_train,Y_test = train_test_split(X,Y,test_size=0.2,random_state=0)"
   ]
  },
  {
   "cell_type": "code",
   "execution_count": 9,
   "id": "d0a78311",
   "metadata": {},
   "outputs": [
    {
     "name": "stdout",
     "output_type": "stream",
     "text": [
      "[[42.  1.  3. ...  2.  2.  2.]\n",
      " [66.  0.  2. ...  1.  1.  2.]\n",
      " [53.  1.  2. ...  2.  3.  2.]\n",
      " ...\n",
      " [65.  1.  3. ...  1.  1.  2.]\n",
      " [67.  1.  0. ...  1.  0.  2.]\n",
      " [60.  1.  2. ...  1.  0.  2.]]\n"
     ]
    }
   ],
   "source": [
    "print(X_train)"
   ]
  },
  {
   "cell_type": "code",
   "execution_count": 10,
   "id": "f6163e1d",
   "metadata": {},
   "outputs": [
    {
     "name": "stdout",
     "output_type": "stream",
     "text": [
      "[1 0 0 1 0 0 0 0 0 0 0 0 1 0 1 1 1 0 1 0 1 1 1 1 1 1 1 0 1 1 1 0 0 1 0 0 0\n",
      " 0 1 1 0 1 1 1 1 1 1 0 0 0 0 0 1 0 0 0 0 1 0 0 0 0 1 0 0 0 0 1 1 1 1 1 1 0\n",
      " 0 0 0 1 0 0 0 0 1 0 1 0 1 0 1 0 0 0 1 1 1 0 0 0 1 1 1 1 1 0 0 1 0 1 0 1 1\n",
      " 0 1 0 1 0 1 0 0 1 0 1 1 0 0 1 1 1 1 0 0 0 1 1 1 0 0 1 0 1 1 0 1 0 0 1 1 1\n",
      " 1 0 1 1 1 0 0 0 1 1 0 0 0 1 1 0 1 1 1 1 1 1 1 1 1 1 1 1 0 1 1 0 0 1 0 0 1\n",
      " 0 1 0 1 0 0 1 0 1 0 1 1 1 0 0 1 1 1 0 1]\n"
     ]
    }
   ],
   "source": [
    "print(Y_test)"
   ]
  },
  {
   "cell_type": "code",
   "execution_count": 11,
   "id": "8094a452",
   "metadata": {},
   "outputs": [],
   "source": [
    "from sklearn.preprocessing import StandardScaler\n",
    "sc = StandardScaler()\n",
    "X_train = sc.fit_transform(X_train)\n",
    "X_test = sc.fit_transform(X_test)"
   ]
  },
  {
   "cell_type": "code",
   "execution_count": 12,
   "id": "f11780b5",
   "metadata": {},
   "outputs": [
    {
     "name": "stdout",
     "output_type": "stream",
     "text": [
      "[[-1.03300622  0.71228712  1.09476414 ...  1.10494968 -0.69359871\n",
      "  -0.55300244]\n",
      " [ 0.47193177 -1.40392824  0.09731237 ...  1.10494968  1.36709311\n",
      "  -0.55300244]\n",
      " [ 1.00940963  0.71228712 -0.9001394  ...  1.10494968  1.36709311\n",
      "   1.04369474]\n",
      " ...\n",
      " [-1.14050179 -1.40392824  1.09476414 ... -0.46806896 -0.69359871\n",
      "  -0.55300244]\n",
      " [ 1.33189634 -1.40392824 -0.9001394  ... -0.46806896  1.36709311\n",
      "   1.04369474]\n",
      " [ 1.86937419 -1.40392824 -0.9001394  ... -0.46806896 -0.69359871\n",
      "  -0.55300244]]\n"
     ]
    }
   ],
   "source": [
    "print(X_test)"
   ]
  },
  {
   "cell_type": "code",
   "execution_count": 13,
   "id": "60033a06",
   "metadata": {},
   "outputs": [
    {
     "name": "stdout",
     "output_type": "stream",
     "text": [
      "[[-1.40503359  0.64895597  1.97748631 ...  0.97028605  1.17427458\n",
      "  -0.5144228 ]\n",
      " [ 1.26270023 -1.5409366   1.01170979 ... -0.6668221   0.21616\n",
      "  -0.5144228 ]\n",
      " [-0.18232226  0.64895597  1.01170979 ...  0.97028605  2.13238916\n",
      "  -0.5144228 ]\n",
      " ...\n",
      " [ 1.15154465  0.64895597  1.97748631 ... -0.6668221   0.21616\n",
      "  -0.5144228 ]\n",
      " [ 1.3738558   0.64895597 -0.91984324 ... -0.6668221  -0.74195458\n",
      "  -0.5144228 ]\n",
      " [ 0.59576677  0.64895597  1.01170979 ... -0.6668221  -0.74195458\n",
      "  -0.5144228 ]]\n"
     ]
    }
   ],
   "source": [
    "print(X_train)"
   ]
  },
  {
   "cell_type": "code",
   "execution_count": 14,
   "id": "8262f435",
   "metadata": {},
   "outputs": [
    {
     "data": {
      "text/plain": [
       "LogisticRegression()"
      ]
     },
     "execution_count": 14,
     "metadata": {},
     "output_type": "execute_result"
    }
   ],
   "source": [
    "from sklearn.linear_model import LogisticRegression\n",
    "model_logistic = LogisticRegression()\n",
    "model_logistic.fit(X_train,Y_train)"
   ]
  },
  {
   "cell_type": "code",
   "execution_count": 15,
   "id": "69edbf34",
   "metadata": {},
   "outputs": [
    {
     "data": {
      "text/plain": [
       "SVC()"
      ]
     },
     "execution_count": 15,
     "metadata": {},
     "output_type": "execute_result"
    }
   ],
   "source": [
    "from sklearn.svm import SVC\n",
    "model_svm = SVC()\n",
    "model_svm.fit(X_train,Y_train)"
   ]
  },
  {
   "cell_type": "code",
   "execution_count": 16,
   "id": "fe0487be",
   "metadata": {},
   "outputs": [
    {
     "data": {
      "text/plain": [
       "KNeighborsClassifier()"
      ]
     },
     "execution_count": 16,
     "metadata": {},
     "output_type": "execute_result"
    }
   ],
   "source": [
    "from sklearn.neighbors import KNeighborsClassifier\n",
    "model_kneighbors = KNeighborsClassifier()\n",
    "model_kneighbors.fit(X_train,Y_train)"
   ]
  },
  {
   "cell_type": "code",
   "execution_count": 17,
   "id": "64f0a479",
   "metadata": {},
   "outputs": [
    {
     "data": {
      "text/plain": [
       "DecisionTreeClassifier()"
      ]
     },
     "execution_count": 17,
     "metadata": {},
     "output_type": "execute_result"
    }
   ],
   "source": [
    "from sklearn.tree import DecisionTreeClassifier\n",
    "model_tree = DecisionTreeClassifier()\n",
    "model_tree.fit(X_train,Y_train)"
   ]
  },
  {
   "cell_type": "code",
   "execution_count": 18,
   "id": "f31ffeea",
   "metadata": {},
   "outputs": [
    {
     "data": {
      "text/plain": [
       "RandomForestClassifier(n_estimators=1000)"
      ]
     },
     "execution_count": 18,
     "metadata": {},
     "output_type": "execute_result"
    }
   ],
   "source": [
    "from sklearn.ensemble import RandomForestClassifier\n",
    "model_random = RandomForestClassifier(n_estimators=1000)\n",
    "model_random.fit(X_train,Y_train)"
   ]
  },
  {
   "cell_type": "code",
   "execution_count": 19,
   "id": "be3d700f",
   "metadata": {},
   "outputs": [
    {
     "name": "stdout",
     "output_type": "stream",
     "text": [
      "^C\n",
      "Note: you may need to restart the kernel to use updated packages.\n"
     ]
    }
   ],
   "source": [
    "pip install xgboost"
   ]
  },
  {
   "cell_type": "code",
   "execution_count": 20,
   "id": "7bec670b",
   "metadata": {},
   "outputs": [
    {
     "ename": "ModuleNotFoundError",
     "evalue": "No module named 'xgboost'",
     "output_type": "error",
     "traceback": [
      "\u001b[1;31m---------------------------------------------------------------------------\u001b[0m",
      "\u001b[1;31mModuleNotFoundError\u001b[0m                       Traceback (most recent call last)",
      "\u001b[1;32m~\\AppData\\Local\\Temp/ipykernel_6612/1751395354.py\u001b[0m in \u001b[0;36m<module>\u001b[1;34m\u001b[0m\n\u001b[1;32m----> 1\u001b[1;33m \u001b[1;32mfrom\u001b[0m \u001b[0mxgboost\u001b[0m \u001b[1;32mimport\u001b[0m \u001b[0mXGBClassifier\u001b[0m\u001b[1;33m\u001b[0m\u001b[1;33m\u001b[0m\u001b[0m\n\u001b[0m\u001b[0;32m      2\u001b[0m \u001b[0mmodel_xg\u001b[0m \u001b[1;33m=\u001b[0m \u001b[0mXGBClassifier\u001b[0m\u001b[1;33m(\u001b[0m\u001b[1;33m)\u001b[0m\u001b[1;33m\u001b[0m\u001b[1;33m\u001b[0m\u001b[0m\n\u001b[0;32m      3\u001b[0m \u001b[0mmodel_xg\u001b[0m\u001b[1;33m.\u001b[0m\u001b[0mfit\u001b[0m\u001b[1;33m(\u001b[0m\u001b[0mX_train\u001b[0m\u001b[1;33m,\u001b[0m\u001b[0mY_train\u001b[0m\u001b[1;33m)\u001b[0m\u001b[1;33m\u001b[0m\u001b[1;33m\u001b[0m\u001b[0m\n",
      "\u001b[1;31mModuleNotFoundError\u001b[0m: No module named 'xgboost'"
     ]
    }
   ],
   "source": [
    "from xgboost import XGBClassifier\n",
    "model_xg = XGBClassifier()\n",
    "model_xg.fit(X_train,Y_train)"
   ]
  },
  {
   "cell_type": "code",
   "execution_count": null,
   "id": "5764a1e1",
   "metadata": {},
   "outputs": [],
   "source": [
    "from sklearn.ensemble import AdaBoostClassifier\n",
    "model_ada = AdaBoostClassifier(learning_rate=0.002, n_estimators=200, random_state=0)\n",
    "model_ada.fit(X_train,Y_train)"
   ]
  },
  {
   "cell_type": "code",
   "execution_count": null,
   "id": "858544a6",
   "metadata": {},
   "outputs": [],
   "source": [
    "from sklearn.ensemble import ExtraTreesClassifier \n",
    "model_extr =  ExtraTreesClassifier(n_estimators= 100)\n",
    "model_extr.fit(X_train, Y_train)"
   ]
  },
  {
   "cell_type": "code",
   "execution_count": null,
   "id": "332a0f29",
   "metadata": {},
   "outputs": [],
   "source": [
    "from sklearn.neural_network import MLPClassifier\n",
    "model_mlp = MLPClassifier()\n",
    "model_mlp.fit(X_train,Y_train)"
   ]
  },
  {
   "cell_type": "code",
   "execution_count": null,
   "id": "8125ddf5",
   "metadata": {},
   "outputs": [],
   "source": [
    "from sklearn.naive_bayes import BernoulliNB\n",
    "model_nv =  BernoulliNB()\n",
    "model_nv.fit(X_train, Y_train)"
   ]
  },
  {
   "cell_type": "code",
   "execution_count": null,
   "id": "6e806cd3",
   "metadata": {},
   "outputs": [],
   "source": [
    "x_test"
   ]
  },
  {
   "cell_type": "code",
   "execution_count": null,
   "id": "713a849a",
   "metadata": {},
   "outputs": [],
   "source": [
    "y_pred_logistic = model_logistic.predict(X_test)\n",
    "y_pred_svm = model_svm.predict(X_test)\n",
    "y_pred_kneighbors = model_kneighbors.predict(X_test)\n",
    "y_pred_tree = model_tree.predict(X_test)\n",
    "y_pred_random = model_random.predict(X_test)\n",
    "y_pred_xg = model_xg.predict(X_test)\n",
    "y_pred_ada = model_ada.predict(X_test)\n",
    "y_pred_extr = model_extr.predict(X_test)\n",
    "y_pred_mlp = model_extr.predict(X_test)\n",
    "y_pred_nv = model_extr.predict(X_test)\n",
    "\n",
    "\n"
   ]
  },
  {
   "cell_type": "code",
   "execution_count": null,
   "id": "b73f02cb",
   "metadata": {},
   "outputs": [],
   "source": [
    "raw_data=dataset.sample(frac=0.25,random_state=1984)\n",
    "raw_data.head()\n",
    "raw_data_feat=raw_data.drop(columns=['target'])\n",
    "raw_data_feat.head()\n"
   ]
  },
  {
   "cell_type": "code",
   "execution_count": null,
   "id": "6b288aa7",
   "metadata": {},
   "outputs": [],
   "source": [
    "print(y_pred_logistic)\n",
    "print(y_pred_svm)"
   ]
  },
  {
   "cell_type": "code",
   "execution_count": null,
   "id": "e7e9f2dd",
   "metadata": {},
   "outputs": [],
   "source": [
    "filename= 'logistic_pred_model'\n",
    "pickle.dump( model_logistic,open(filename,'wb'))"
   ]
  },
  {
   "cell_type": "code",
   "execution_count": null,
   "id": "3643d110",
   "metadata": {},
   "outputs": [],
   "source": [
    "loaded_model = pickle.load(open(filename,'rb'))\n",
    "loaded_model.predict(X_test)"
   ]
  },
  {
   "cell_type": "code",
   "execution_count": null,
   "id": "c49e01d5",
   "metadata": {},
   "outputs": [],
   "source": [
    "from sklearn.metrics import accuracy_score\n",
    "logistic_Acc = accuracy_score(Y_test,y_pred_logistic)\n",
    "SVM_Acc = accuracy_score(Y_test,y_pred_svm)\n",
    "KNeighbors_Acc = accuracy_score(Y_test,y_pred_kneighbors)\n",
    "DecTree_Acc = accuracy_score(Y_test,y_pred_tree)\n",
    "Random_Acc = accuracy_score(Y_test,y_pred_random)\n",
    "Xg_Acc = accuracy_score(Y_test,y_pred_xg)\n",
    "Ada_Acc = accuracy_score(Y_test,y_pred_ada )\n",
    "Extree_Acc = accuracy_score(Y_test,y_pred_extr)\n",
    "Mlp_Acc = accuracy_score(Y_test,y_pred_mlp)\n",
    "NaiveBase_Acc = accuracy_score(Y_test,y_pred_nv)"
   ]
  },
  {
   "cell_type": "code",
   "execution_count": null,
   "id": "25b357be",
   "metadata": {},
   "outputs": [],
   "source": [
    "print(logistic_Acc)\n",
    "print(SVM_Acc)\n",
    "print(KNeighbors_Acc)\n",
    "print(DecTree_Acc)\n",
    "print(Random_Acc)\n",
    "print(Xg_Acc)\n",
    "print(Ada_Acc)\n",
    "print(Extree_Acc)\n",
    "print(Mlp_Acc)\n",
    "print(NaiveBase_Acc)"
   ]
  },
  {
   "cell_type": "code",
   "execution_count": null,
   "id": "0df287dd",
   "metadata": {},
   "outputs": [],
   "source": [
    "plt.figure(figsize=(20,5))\n",
    "plt.bar(\"logistic Regression\",logistic_Acc)\n",
    "plt.bar(\"Support Vector Mechine\",SVM_Acc)\n",
    "plt.bar(\"KNeighbors\",KNeighbors_Acc)\n",
    "plt.bar(\"DecesiNon Tree\",DecTree_Acc)\n",
    "plt.bar(\"Random Forest\",Random_Acc)\n",
    "plt.bar(\"Xboost\",Xg_Acc)\n",
    "plt.bar(\"Adaboost\",Ada_Acc)\n",
    "plt.bar(\"Extree\",Extree_Acc)\n",
    "plt.bar(\"Multi Layer Perceptron\",Mlp_Acc)\n",
    "plt.bar(\"NaiveBayes\",NaiveBase_Acc)\n",
    "plt.xlabel(\"Mechine Learning Algorithm\")\n",
    "plt.ylabel(\"Accuracy\")"
   ]
  },
  {
   "cell_type": "code",
   "execution_count": null,
   "id": "903d7c0a",
   "metadata": {},
   "outputs": [],
   "source": [
    "from sklearn.metrics import confusion_matrix"
   ]
  },
  {
   "cell_type": "code",
   "execution_count": null,
   "id": "d9ed3d6e",
   "metadata": {},
   "outputs": [],
   "source": [
    "Y_test"
   ]
  },
  {
   "cell_type": "code",
   "execution_count": null,
   "id": "b2ea2ea5",
   "metadata": {},
   "outputs": [],
   "source": [
    "y_pred_logistic"
   ]
  },
  {
   "cell_type": "code",
   "execution_count": null,
   "id": "79b85a35",
   "metadata": {},
   "outputs": [],
   "source": [
    "confusion_matrix(Y_test,y_pred_logistic)"
   ]
  },
  {
   "cell_type": "code",
   "execution_count": null,
   "id": "7e28146d",
   "metadata": {},
   "outputs": [],
   "source": [
    "tn,fp,fn,tp=confusion_matrix(Y_test,y_pred_logistic).ravel()"
   ]
  },
  {
   "cell_type": "code",
   "execution_count": null,
   "id": "4a46df7a",
   "metadata": {},
   "outputs": [],
   "source": [
    "tn,fp,fn,tp"
   ]
  },
  {
   "cell_type": "code",
   "execution_count": null,
   "id": "ad434516",
   "metadata": {},
   "outputs": [],
   "source": [
    "logistic_specificity =tn/(tn+fp)"
   ]
  },
  {
   "cell_type": "code",
   "execution_count": null,
   "id": "4f5b5392",
   "metadata": {},
   "outputs": [],
   "source": [
    "print(logistic_specificity)"
   ]
  },
  {
   "cell_type": "code",
   "execution_count": null,
   "id": "c2c8c13f",
   "metadata": {},
   "outputs": [],
   "source": [
    "logistic_errorrate=1-logistic_Acc\n",
    "logistic_errorrate\n",
    "\n"
   ]
  },
  {
   "cell_type": "code",
   "execution_count": null,
   "id": "87fc4490",
   "metadata": {},
   "outputs": [],
   "source": [
    "from sklearn.metrics import classification_report\n",
    "print( classification_report(Y_test,y_pred_logistic))"
   ]
  },
  {
   "cell_type": "code",
   "execution_count": null,
   "id": "21c4b2f4",
   "metadata": {},
   "outputs": [],
   "source": [
    "confusion_matrix(Y_test,y_pred_logistic)"
   ]
  },
  {
   "cell_type": "code",
   "execution_count": null,
   "id": "0c403a1b",
   "metadata": {},
   "outputs": [],
   "source": [
    "tn,fp,fn,tp=confusion_matrix(Y_test,y_pred_svm).ravel()"
   ]
  },
  {
   "cell_type": "code",
   "execution_count": null,
   "id": "3d0b4126",
   "metadata": {},
   "outputs": [],
   "source": [
    "tn,fp,fn,tp"
   ]
  },
  {
   "cell_type": "code",
   "execution_count": null,
   "id": "e92f5d91",
   "metadata": {},
   "outputs": [],
   "source": [
    "svm_specificity =93/(93+5)\n"
   ]
  },
  {
   "cell_type": "code",
   "execution_count": null,
   "id": "0ea4053c",
   "metadata": {},
   "outputs": [],
   "source": [
    "print(svm_specificity)"
   ]
  },
  {
   "cell_type": "code",
   "execution_count": null,
   "id": "07e3fa4f",
   "metadata": {},
   "outputs": [],
   "source": [
    "SVM_errorrate=1-SVM_Acc\n",
    "SVM_errorrate"
   ]
  },
  {
   "cell_type": "code",
   "execution_count": null,
   "id": "efca50dc",
   "metadata": {},
   "outputs": [],
   "source": [
    "from sklearn.metrics import classification_report\n",
    "print( classification_report(Y_test,y_pred_svm))"
   ]
  },
  {
   "cell_type": "code",
   "execution_count": null,
   "id": "7a44752e",
   "metadata": {},
   "outputs": [],
   "source": [
    "confusion_matrix(Y_test,y_pred_kneighbors)"
   ]
  },
  {
   "cell_type": "code",
   "execution_count": null,
   "id": "6f79d66e",
   "metadata": {},
   "outputs": [],
   "source": [
    "tn,fp,fn,tp=confusion_matrix(Y_test,y_pred_kneighbors).ravel()"
   ]
  },
  {
   "cell_type": "code",
   "execution_count": null,
   "id": "b288cd38",
   "metadata": {},
   "outputs": [],
   "source": [
    "tn,fp,fn,tp"
   ]
  },
  {
   "cell_type": "code",
   "execution_count": null,
   "id": "7a0dbab6",
   "metadata": {},
   "outputs": [],
   "source": [
    "kneighbors_specificity =tn/(tn+fp)\n"
   ]
  },
  {
   "cell_type": "code",
   "execution_count": null,
   "id": "9b47b5b5",
   "metadata": {},
   "outputs": [],
   "source": [
    "print(kneighbors_specificity)"
   ]
  },
  {
   "cell_type": "code",
   "execution_count": null,
   "id": "4fda0dc7",
   "metadata": {},
   "outputs": [],
   "source": [
    "kneighbor_errorrate=1-KNeighbors_Acc\n",
    "kneighbor_errorrate"
   ]
  },
  {
   "cell_type": "code",
   "execution_count": null,
   "id": "7ca6c452",
   "metadata": {},
   "outputs": [],
   "source": [
    "from sklearn.metrics import classification_report\n",
    "print( classification_report(Y_test,y_pred_kneighbors))"
   ]
  },
  {
   "cell_type": "code",
   "execution_count": null,
   "id": "904e26b2",
   "metadata": {},
   "outputs": [],
   "source": [
    "tn,fp,fn,tp=confusion_matrix(Y_test,y_pred_tree).ravel()"
   ]
  },
  {
   "cell_type": "code",
   "execution_count": null,
   "id": "fe69696b",
   "metadata": {},
   "outputs": [],
   "source": [
    "tn,fp,fn,tp"
   ]
  },
  {
   "cell_type": "code",
   "execution_count": null,
   "id": "a149dccd",
   "metadata": {},
   "outputs": [],
   "source": [
    "Dtree_specificity =tn/(tn+fp)"
   ]
  },
  {
   "cell_type": "code",
   "execution_count": null,
   "id": "8b9b61b4",
   "metadata": {},
   "outputs": [],
   "source": [
    "print(Dtree_specificity)"
   ]
  },
  {
   "cell_type": "code",
   "execution_count": null,
   "id": "24171d99",
   "metadata": {},
   "outputs": [],
   "source": [
    "Dtree_errorrate=1-DecTree_Acc\n",
    "Dtree_errorrate\n",
    "\n"
   ]
  },
  {
   "cell_type": "code",
   "execution_count": null,
   "id": "446942a9",
   "metadata": {},
   "outputs": [],
   "source": [
    "tn,fp,fn,tp=confusion_matrix(Y_test,y_pred_random).ravel()\n",
    "tn,fp,fn,tp"
   ]
  },
  {
   "cell_type": "code",
   "execution_count": null,
   "id": "72f571be",
   "metadata": {},
   "outputs": [],
   "source": [
    "Random_specificity =tn/(tn+fp)\n",
    "print(Random_specificity)"
   ]
  },
  {
   "cell_type": "code",
   "execution_count": null,
   "id": "c5cf135e",
   "metadata": {},
   "outputs": [],
   "source": [
    "Random_errorrate=1-Random_Acc\n",
    "Random_errorrate"
   ]
  },
  {
   "cell_type": "code",
   "execution_count": null,
   "id": "3158f996",
   "metadata": {},
   "outputs": [],
   "source": [
    "tn,fp,fn,tp=confusion_matrix(Y_test,y_pred_xg).ravel()\n",
    "tn,fp,fn,tp"
   ]
  },
  {
   "cell_type": "code",
   "execution_count": null,
   "id": "16730ff6",
   "metadata": {},
   "outputs": [],
   "source": [
    "Random_specificity =tn/(tn+fp)\n",
    "print(Random_specificity)"
   ]
  },
  {
   "cell_type": "code",
   "execution_count": null,
   "id": "97735d0f",
   "metadata": {},
   "outputs": [],
   "source": [
    "tn,fp,fn,tp=confusion_matrix(Y_test,y_pred_ada).ravel()\n",
    "tn,fp,fn,tp"
   ]
  },
  {
   "cell_type": "code",
   "execution_count": null,
   "id": "0dd4822c",
   "metadata": {},
   "outputs": [],
   "source": [
    "Ada_specificity =tn/(tn+fp)\n",
    "print(Ada_specificity)"
   ]
  },
  {
   "cell_type": "code",
   "execution_count": null,
   "id": "7785eec8",
   "metadata": {},
   "outputs": [],
   "source": [
    "tn,fp,fn,tp=confusion_matrix(Y_test,y_pred_extr).ravel()\n",
    "tn,fp,fn,tp"
   ]
  },
  {
   "cell_type": "code",
   "execution_count": null,
   "id": "1c1cc4b2",
   "metadata": {},
   "outputs": [],
   "source": [
    "Etree_specificity =tn/(tn+fp)\n",
    "print(Etree_specificity)"
   ]
  },
  {
   "cell_type": "code",
   "execution_count": null,
   "id": "0c61159e",
   "metadata": {},
   "outputs": [],
   "source": [
    "tn,fp,fn,tp=confusion_matrix(Y_test,y_pred_mlp).ravel()\n",
    "tn,fp,fn,tp"
   ]
  },
  {
   "cell_type": "code",
   "execution_count": null,
   "id": "53bc5708",
   "metadata": {},
   "outputs": [],
   "source": [
    "Y_test,y_pred_nv"
   ]
  },
  {
   "cell_type": "code",
   "execution_count": null,
   "id": "f3002735",
   "metadata": {},
   "outputs": [],
   "source": [
    "tn,fp,fn,tp=confusion_matrix(Y_test,y_pred_nv).ravel()\n",
    "tn,fp,fn,tp"
   ]
  },
  {
   "cell_type": "code",
   "execution_count": null,
   "id": "4ca16f05",
   "metadata": {},
   "outputs": [],
   "source": [
    "Naive_specificity =tn/(tn+fp)\n",
    "print(Naive_specificity)"
   ]
  },
  {
   "cell_type": "code",
   "execution_count": null,
   "id": "585cbf78",
   "metadata": {},
   "outputs": [],
   "source": [
    "confusion_matrix(Y_test,y_pred_nv)"
   ]
  },
  {
   "cell_type": "code",
   "execution_count": null,
   "id": "2a5039a2",
   "metadata": {},
   "outputs": [],
   "source": []
  }
 ],
 "metadata": {
  "kernelspec": {
   "display_name": "Python 3 (ipykernel)",
   "language": "python",
   "name": "python3"
  },
  "language_info": {
   "codemirror_mode": {
    "name": "ipython",
    "version": 3
   },
   "file_extension": ".py",
   "mimetype": "text/x-python",
   "name": "python",
   "nbconvert_exporter": "python",
   "pygments_lexer": "ipython3",
   "version": "3.9.7"
  }
 },
 "nbformat": 4,
 "nbformat_minor": 5
}
